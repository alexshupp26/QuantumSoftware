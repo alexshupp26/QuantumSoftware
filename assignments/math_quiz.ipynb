{
 "cells": [
  {
   "cell_type": "markdown",
   "metadata": {},
   "source": [
    "# Math Quiz \n",
    "Enter an answer for each question in the markdown box"
   ]
  },
  {
   "attachments": {},
   "cell_type": "markdown",
   "metadata": {},
   "source": [
    "---\n",
    "## Question 1:\n",
    "Evaluate derivative with respect to $x$:\n",
    "$$\n",
    "f(x) = x^4e^{\\left(2x+a\\right)^2}\n",
    "$$\n"
   ]
  },
  {
   "attachments": {},
   "cell_type": "markdown",
   "metadata": {},
   "source": [
    "$\\boxed{4x^3e^{(2x+a)^2}+4x^4(2x+a)e^{(2x+a)^2}}$"
   ]
  },
  {
   "attachments": {},
   "cell_type": "markdown",
   "metadata": {},
   "source": [
    "---\n",
    "## Question 2:\n",
    "Evaluate the following integral:\n",
    "$$\n",
    "\\int_{-1}^{2} 5t^4\\;dt\n",
    "$$\n"
   ]
  },
  {
   "attachments": {},
   "cell_type": "markdown",
   "metadata": {},
   "source": [
    "$2^5-(-1)^2 \\\\ 32 - (-1) \\\\ 32 + 1 \\\\ \\boxed{33}$"
   ]
  },
  {
   "attachments": {},
   "cell_type": "markdown",
   "metadata": {},
   "source": [
    "---\n",
    "## Question 3:\n",
    "If, $\\hat{A} = \\hat{A}^\\dagger$, what kind of operator is $\\hat{A}$?"
   ]
  },
  {
   "attachments": {},
   "cell_type": "markdown",
   "metadata": {},
   "source": [
    "$\\hat{A}$ is a $\\boxed{Hermetian}$ Operator"
   ]
  },
  {
   "attachments": {},
   "cell_type": "markdown",
   "metadata": {},
   "source": [
    "---\n",
    "## Question 4:\n",
    "If, $\\hat{A}\\hat{A}^\\dagger=\\hat{A}^\\dagger\\hat{A}=\\hat{I}$, what kind of operator is $\\hat{A}$?"
   ]
  },
  {
   "attachments": {},
   "cell_type": "markdown",
   "metadata": {},
   "source": [
    "$\\boxed{Involutory}$"
   ]
  },
  {
   "attachments": {},
   "cell_type": "markdown",
   "metadata": {},
   "source": [
    "---\n",
    "## Question 5:\n",
    "If, $\\hat{A}\\hat{A}=\\hat{A}$, what kind of operator is $\\hat{A}$?"
   ]
  },
  {
   "attachments": {},
   "cell_type": "markdown",
   "metadata": {},
   "source": [
    "$\\boxed{Idempotent}$"
   ]
  },
  {
   "attachments": {},
   "cell_type": "markdown",
   "metadata": {},
   "source": [
    "---\n",
    "## Question 6:\n",
    "If $\\hat{A}$ is Idempotent and Involutory, what is $\\hat{A}$?"
   ]
  },
  {
   "attachments": {},
   "cell_type": "markdown",
   "metadata": {},
   "source": [
    "If $\\\\\\hat{A}\\hat{A} = \\hat{A}\\\\$ and $\\\\ \\hat{A}\\hat{A} = \\hat{I}\\\\$ Then $\\\\\\boxed{\\hat{A} = \\hat{I}}$"
   ]
  },
  {
   "attachments": {},
   "cell_type": "markdown",
   "metadata": {},
   "source": [
    "---\n",
    "## Question 7:\n",
    "Given the following relationship, $\\hat{A}\\ket{v_i} = a_i\\ket{v_i}$, define the following quantities: \n",
    "\t\n",
    "- $a_i$ :\n",
    "- $\\ket{v_i}$ :"
   ]
  },
  {
   "attachments": {},
   "cell_type": "markdown",
   "metadata": {},
   "source": [
    "$a_i$: Value such that constructing a matrix $\\hat{D}$ where the diagonal values are $a_i$ and the off-diagonal values are 0 represents the Diagonal matrix form of $\\hat{A}$\n",
    "$\\\\\\ket{v_i}$: Vector such that mupltiplying $\\hat{A}$ by $\\ket{v_i}$ will produce a vector $\\ket{u_i}$ which is just a scalar multiple of $\\ket{v_i}$"
   ]
  },
  {
   "attachments": {},
   "cell_type": "markdown",
   "metadata": {},
   "source": [
    "---\n",
    "## Question 8:\n",
    " Given the following :\n",
    "- $\\mathbf{x} = \\begin{pmatrix}a\\\\b\\end{pmatrix}$\n",
    "- $\\mathbf{y} = \\begin{pmatrix}c\\\\d\\end{pmatrix}$\n",
    "- $\\mathbf{X} = \\begin{pmatrix}a & b \\\\ c & d\\end{pmatrix}$\n",
    "- $\\mathbf{Y} = \\begin{pmatrix}c & d \\\\ e & f\\end{pmatrix}$\n",
    "\n",
    "Compute: \n",
    "1. $\\mathbf{Y}\\mathbf{x} = ?$\n",
    "1. $\\mathbf{x}^\\dagger\\mathbf{Y} = ?$\n",
    "1. $\\mathbf{X}^\\dagger\\mathbf{Y} = ?$ \n",
    "1. $Trace(\\hat{X}) = ?$"
   ]
  },
  {
   "attachments": {},
   "cell_type": "markdown",
   "metadata": {},
   "source": [
    "1. $\\mathbf{Y}\\mathbf{x} = \\begin{pmatrix}c & d \\\\ e & f\\end{pmatrix}\\cdot\\begin{pmatrix}a \\\\ b\\end{pmatrix} = \\boxed{\\begin{pmatrix} ca + db \\\\ ea + fb \\end{pmatrix}}$ \n",
    "2. $\\mathbf{x}^\\dagger\\mathbf{Y} = \\begin{pmatrix}c^* \\ d^*\\end{pmatrix}\\cdot \\begin{pmatrix}a & b \\\\ c & d\\end{pmatrix} = \\boxed{\\begin{pmatrix} c^*a + d^*c \\ \\ c^*b + d^*d \\end{pmatrix}}$\n",
    "3. $\\mathbf{X}^\\dagger\\mathbf{Y} = \\begin{pmatrix}a^* & c^* \\\\ b^* & d^*\\end{pmatrix} \\cdot \\begin{pmatrix}c & d \\\\ e & f\\end{pmatrix} = \\boxed{\\begin{pmatrix}(a^*c)+(c^*e) & (a^*d)+(c^*f) \\\\ (b^*c)+(d^*e) & (b^*d)+(d^*f)\\end{pmatrix}}$\n",
    "4. $Trace(\\hat{X}) = Trace\\begin{pmatrix}a & b \\\\ c & d\\end{pmatrix} = \\boxed{a + d}$"
   ]
  },
  {
   "attachments": {},
   "cell_type": "markdown",
   "metadata": {},
   "source": [
    "---\n",
    "## Question 9:\n",
    "Compute the following commutator: $\\left[\\begin{pmatrix} 1 & 2 \\\\ 3 & 4\\end{pmatrix},\\begin{pmatrix} 5 & 6 \\\\ 7 & 8\\end{pmatrix}\\right]$"
   ]
  },
  {
   "cell_type": "markdown",
   "metadata": {},
   "source": []
  },
  {
   "attachments": {},
   "cell_type": "markdown",
   "metadata": {},
   "source": [
    "A = $\\begin{pmatrix} 1 & 2 \\\\ 3 & 4\\end{pmatrix}$, B = $\\begin{pmatrix} 5 & 6 \\\\ 7 & 8\\end{pmatrix}$, [$\\hat{A}$,$\\hat{B}$] = $\\hat{A}\\hat{B}$ - $\\hat{B}\\hat{A}$ $\\\\\\hat{A}\\hat{B}$ = $\\begin{pmatrix} (1\\cdot5)+(2\\cdot7) & (1\\cdot6) +(2\\cdot8)  \\\\ (3\\cdot5)+(4\\cdot7) & (3\\cdot6)+(4\\cdot8)\\end{pmatrix}$ = $\\begin{pmatrix} 19 & 22  \\\\ 43 & 50\\end{pmatrix}$ $\\\\\\hat{B}\\hat{A}$ = $\\begin{pmatrix} (5\\cdot1)+(6\\cdot3) & (5\\cdot2)+(6\\cdot4)  \\\\ (7\\cdot1)+(8\\cdot3) & (7\\cdot2)+(8\\cdot4)\\end{pmatrix}$ = $\\begin{pmatrix} 23 & 34  \\\\ 31 & 46\\end{pmatrix}$ $\\\\\\hat{A}\\hat{B}$ - $\\hat{B}\\hat{A}$ = $\\begin{pmatrix} 19 & 22  \\\\ 43 & 50\\end{pmatrix}$ - $\\begin{pmatrix} 23 & 34  \\\\ 31 & 46\\end{pmatrix}$ = $\\boxed{\\begin{pmatrix} -4 &  -12 \\\\ 12 & 4 \\end{pmatrix}}$"
   ]
  }
 ],
 "metadata": {
  "language_info": {
   "name": "python"
  },
  "orig_nbformat": 4
 },
 "nbformat": 4,
 "nbformat_minor": 2
}
